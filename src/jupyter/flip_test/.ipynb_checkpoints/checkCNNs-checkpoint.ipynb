{
 "cells": [
  {
   "cell_type": "code",
   "execution_count": 1,
   "metadata": {},
   "outputs": [],
   "source": [
    "import numpy as np\n",
    "import pickle\n",
    "import json\n",
    "import torch\n",
    "from torch.utils.data import DataLoader, TensorDataset, Dataset\n",
    "import torch.nn as nn\n",
    "from torch.autograd import Variable\n",
    "from torch.nn import functional as F\n",
    "import torch.onnx\n",
    "from torch.utils.data.sampler import SubsetRandomSampler\n",
    "import sys\n",
    "import os\n",
    "import threading\n",
    "import time\n",
    "import matplotlib.pyplot as plt"
   ]
  },
  {
   "cell_type": "code",
   "execution_count": 2,
   "metadata": {},
   "outputs": [],
   "source": [
    "# my modules\n",
    "sys.path.append(os.getcwd() + '/../..')\n",
    "\n",
    "from models import ShallowCNN\n",
    "from models import DPCNN\n",
    "from dataset import dataset\n",
    "from preprocess import preprocess\n",
    "from util import readConfig\n",
    "from train import *\n",
    "from plot import plots\n",
    "from scipy import stats"
   ]
  },
  {
   "cell_type": "code",
   "execution_count": 3,
   "metadata": {},
   "outputs": [],
   "source": [
    "# load the config get the model and the data\n",
    "def init(config_path):\n",
    "    print('Read config file %s.'%config_path)\n",
    "    args = readConfig.readConfig(config_path)\n",
    "    print(args)\n",
    "    # load embeddings\n",
    "    embed_matrix = pickle.load(open(args['embed_path']+'/embed.pkl', 'rb'))\n",
    "    print(\"Load embedding of size %s\"%embed_matrix.shape[1])\n",
    "    w2i = pickle.load(open(args['w2i']+'/w2i.pkl', 'rb'))\n",
    "    i2w = pickle.load(open(args['i2w']+'/i2w.pkl', 'rb'))\n",
    "    # load data\n",
    "    cls, texts =preprocess.readData(args['input_path']+\"/test_classes.data\", args['input_path']+\"/test_texts.data\") \n",
    "    test_set = dataset.TextDataset(texts, cls, w2i, int(args['max_sen_len']))\n",
    "    model = None\n",
    "    \n",
    "    model_args = {\n",
    "        'vocab_size': embed_matrix.shape[0], # add unkown word\n",
    "        'max_len': int(args['max_sen_len']),\n",
    "        'n_class': int(args['num_class']),\n",
    "        'dim': embed_matrix.shape[1],\n",
    "        'dropout': float(args['dropout']),\n",
    "        'freeze': True,\n",
    "        'kernel_num': int(args['channel_size']),\n",
    "        'embedding_matrix': embed_matrix,\n",
    "        'forward_embed': True\n",
    "        \n",
    "    }\n",
    "    if args['model']=='shallowCNN':\n",
    "            print(\"Start training shallowCNN\")\n",
    "            model = ShallowCNN.ShallowCNN(model_args)\n",
    "    else:\n",
    "        model = DPCNN.DPCNN(model_args)\n",
    "    model.load(args['load_model_from'])\n",
    "    print(model.eval)\n",
    "    model.setDropout(0)\n",
    "    \n",
    "    return (args, w2i, i2w, cls, texts, test_set, model_args, model)"
   ]
  },
  {
   "cell_type": "code",
   "execution_count": 4,
   "metadata": {},
   "outputs": [
    {
     "name": "stdout",
     "output_type": "stream",
     "text": [
      "Read config file ../../train/abspath_train_config.\n",
      "{'action': 'test', 'model': 'DPCNN', 'max_sen_len': '129', 'num_class': '2', 'epoch': '4', 'cv': '0', 'dropout': '0.5', 'freeze': 'True', 'output_path': '/home/sj/Documents/lecture_projects/master_thesis_2020/explain_cnn_text_classifiers/data/models/yelp_polarity_DPCNN/', 'input_path': '/home/sj/Documents/lecture_projects/master_thesis_2020/explain_cnn_text_classifiers/data/datasets/yelp_polarity', 'channel_size': '20', 'embed_path': '/home/sj/Documents/lecture_projects/master_thesis_2020/explain_cnn_text_classifiers/data/embeddings/polar/selected1275_yelp', 'w2i': '/home/sj/Documents/lecture_projects/master_thesis_2020/explain_cnn_text_classifiers/data/embeddings/glove/yelp_polarity', 'i2w': '/home/sj/Documents/lecture_projects/master_thesis_2020/explain_cnn_text_classifiers/data/embeddings/glove/yelp_polarity', 'load_model_from': '/home/sj/Documents/lecture_projects/master_thesis_2020/explain_cnn_text_classifiers/data/models/yelp_polarity_DPCNN/new_polar1275-3-139.model', 'load_dim_names': '/home/sj/Documents/lecture_projects/master_thesis_2020/explain_cnn_text_classifiers/data/embeddings/polar/selected1275_yelp/b1275.pkl', 'gradients': 'True', 'forward_embed': 'True'}\n",
      "Load embedding of size 1275\n",
      "<bound method Module.eval of DPCNN(\n",
      "  (dropout): Dropout(p=0.5, inplace=False)\n",
      "  (embedding_layer): Embedding(54928, 1275)\n",
      "  (conv_region_embedding): Conv2d(1, 20, kernel_size=(3, 1275), stride=(1, 1))\n",
      "  (conv3): Conv2d(20, 20, kernel_size=(3, 1), stride=(1, 1))\n",
      "  (pooling): MaxPool2d(kernel_size=(3, 1), stride=2, padding=0, dilation=1, ceil_mode=False)\n",
      "  (padding_conv): ZeroPad2d(padding=(0, 0, 1, 1), value=0.0)\n",
      "  (padding_pool): ZeroPad2d(padding=(0, 0, 0, 1), value=0.0)\n",
      "  (fc1): Linear(in_features=60, out_features=2, bias=True)\n",
      ")>\n"
     ]
    }
   ],
   "source": [
    "args, w2i, i2w, cls, texts, test_set, model_args, model = init(\"../../train/abspath_train_config\")"
   ]
  },
  {
   "cell_type": "code",
   "execution_count": 5,
   "metadata": {},
   "outputs": [],
   "source": [
    "mlmodel = model.toMLCNN(5)"
   ]
  },
  {
   "cell_type": "code",
   "execution_count": 7,
   "metadata": {},
   "outputs": [
    {
     "name": "stdout",
     "output_type": "stream",
     "text": [
      "tensor([[-1.8264, -0.1755]], grad_fn=<LogSoftmaxBackward>)\n"
     ]
    }
   ],
   "source": [
    "    input = test_set[33][0]\n",
    "    model.forwardEmbedLayer = False\n",
    "    label = 0#test_set[p][1]\n",
    "    input = model.embedding_layer(input)\n",
    "    input = input.view(1, 1, model_args['max_len'], model_args['dim'])\n",
    "    print(model(input))"
   ]
  },
  {
   "cell_type": "code",
   "execution_count": 8,
   "metadata": {},
   "outputs": [
    {
     "name": "stdout",
     "output_type": "stream",
     "text": [
      "tensor([[-1.8264, -0.1755]], grad_fn=<LogSoftmaxBackward>)\n"
     ]
    }
   ],
   "source": [
    "    input = test_set[33][0]\n",
    "    mlmodel.forwardEmbedLayer = False\n",
    "    mlmodel.setDropout(0)\n",
    "    label = 0#test_set[p][1]\n",
    "    input = mlmodel.embedding_layer(input)\n",
    "    input = input.view(1, 1, model_args['max_len'], model_args['dim'])\n",
    "    print(mlmodel(input))"
   ]
  },
  {
   "cell_type": "code",
   "execution_count": 22,
   "metadata": {},
   "outputs": [
    {
     "data": {
      "text/plain": [
       "Dropout(p=0.5, inplace=False)"
      ]
     },
     "execution_count": 22,
     "metadata": {},
     "output_type": "execute_result"
    }
   ],
   "source": [
    "mlmodel.dropout"
   ]
  },
  {
   "cell_type": "code",
   "execution_count": 24,
   "metadata": {},
   "outputs": [
    {
     "data": {
      "text/plain": [
       "{'vocab_size': 54928,\n",
       " 'max_len': 129,\n",
       " 'n_class': 2,\n",
       " 'dim': 1275,\n",
       " 'dropout': 0.5,\n",
       " 'freeze': True,\n",
       " 'kernel_num': 20,\n",
       " 'embedding_matrix': matrix([[ 0.        ,  0.        ,  0.        , ...,  0.        ,\n",
       "           0.        ,  0.        ],\n",
       "         [ 0.02098275, -0.00945841,  0.00542816, ...,  0.03292921,\n",
       "           0.0327739 , -0.00843224],\n",
       "         [ 0.04143724,  0.01861567, -0.04191573, ..., -0.00939888,\n",
       "           0.02604925,  0.02777051],\n",
       "         ...,\n",
       "         [ 0.03622742, -0.03845034,  0.00064894, ..., -0.02132661,\n",
       "           0.00402055, -0.03269817],\n",
       "         [ 0.01130627,  0.01046497,  0.00319146, ...,  0.05925614,\n",
       "           0.01208729, -0.04095998],\n",
       "         [-0.00081841,  0.01543433, -0.01330311, ...,  0.01686093,\n",
       "           0.02559218, -0.07698841]]),\n",
       " 'forward_embed': True}"
      ]
     },
     "execution_count": 24,
     "metadata": {},
     "output_type": "execute_result"
    }
   ],
   "source": [
    "model.param"
   ]
  },
  {
   "cell_type": "code",
   "execution_count": 20,
   "metadata": {},
   "outputs": [
    {
     "name": "stdout",
     "output_type": "stream",
     "text": [
      "1\n",
      "2\n",
      "3\n",
      "4\n",
      "5\n"
     ]
    }
   ],
   "source": [
    "\n",
    "    "
   ]
  },
  {
   "cell_type": "code",
   "execution_count": null,
   "metadata": {},
   "outputs": [],
   "source": []
  }
 ],
 "metadata": {
  "kernelspec": {
   "display_name": "Python 3",
   "language": "python",
   "name": "python3"
  },
  "language_info": {
   "codemirror_mode": {
    "name": "ipython",
    "version": 3
   },
   "file_extension": ".py",
   "mimetype": "text/x-python",
   "name": "python",
   "nbconvert_exporter": "python",
   "pygments_lexer": "ipython3",
   "version": "3.7.5"
  }
 },
 "nbformat": 4,
 "nbformat_minor": 4
}
