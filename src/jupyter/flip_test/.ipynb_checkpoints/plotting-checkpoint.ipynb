{
 "cells": [
  {
   "cell_type": "code",
   "execution_count": 1,
   "metadata": {},
   "outputs": [],
   "source": [
    "import matplotlib.pyplot as plt\n",
    "import numpy as np\n",
    "import os"
   ]
  },
  {
   "cell_type": "code",
   "execution_count": 19,
   "metadata": {
    "collapsed": true
   },
   "outputs": [
    {
     "data": {
      "text/plain": [
       "['164-Negative-Negative.txt',\n",
       " '28-Positive-Positive.txt',\n",
       " '95-Negative-Positive.txt',\n",
       " '109-Negative-Negative.txt',\n",
       " '23-Negative-Negative.txt',\n",
       " '170-Positive-Positive.txt',\n",
       " '137-Positive-Positive.txt',\n",
       " '91-Positive-Positive.txt',\n",
       " '53-Negative-Negative.txt',\n",
       " '8-Negative-Negative.txt',\n",
       " '48-Positive-Positive.txt',\n",
       " '19-Positive-Positive.txt',\n",
       " '32-Positive-Positive.txt',\n",
       " '194-Positive-Positive.txt',\n",
       " '173-Positive-Positive.txt',\n",
       " '100-Positive-Positive.txt',\n",
       " '174-Positive-Positive.txt',\n",
       " '94-Negative-Negative.txt',\n",
       " '3-Negative-Negative.txt',\n",
       " '67-Positive-Positive.txt',\n",
       " '121-Positive-Positive.txt',\n",
       " '86-Negative-Negative.txt',\n",
       " '11-Positive-Positive.txt',\n",
       " '180-Positive-Positive.txt',\n",
       " '63-Negative-Negative.txt',\n",
       " '66-Positive-Positive.txt',\n",
       " '123-Negative-Negative.txt',\n",
       " '93-Positive-Positive.txt',\n",
       " '141-Positive-Positive.txt',\n",
       " '29-Negative-Negative.txt',\n",
       " '162-Positive-Positive.txt',\n",
       " '60-Positive-Positive.txt',\n",
       " '117-Negative-Negative.txt',\n",
       " '49-Negative-Negative.txt',\n",
       " '108-Negative-Negative.txt',\n",
       " '61-Negative-Negative.txt',\n",
       " '150-Negative-Negative.txt',\n",
       " '144-Positive-Positive.txt',\n",
       " '129-Positive-Positive.txt',\n",
       " '172-Positive-Positive.txt',\n",
       " '181-Negative-Negative.txt',\n",
       " '73-Positive-Positive.txt',\n",
       " '35-Positive-Negative.txt',\n",
       " '146-Positive-Negative.txt',\n",
       " '17-Negative-Negative.txt',\n",
       " '52-Positive-Positive.txt',\n",
       " '167-Positive-Positive.txt',\n",
       " '138-Negative-Negative.txt',\n",
       " '13-Negative-Negative.txt',\n",
       " '184-Negative-Negative.txt',\n",
       " '128-Positive-Positive.txt',\n",
       " '76-Positive-Positive.txt',\n",
       " '41-Positive-Positive.txt',\n",
       " '140-Positive-Positive.txt',\n",
       " '147-Positive-Positive.txt',\n",
       " '84-Negative-Negative.txt',\n",
       " '153-Negative-Positive.txt',\n",
       " '154-Positive-Positive.txt',\n",
       " '104-Positive-Positive.txt',\n",
       " '190-Positive-Positive.txt',\n",
       " '68-Positive-Positive.txt',\n",
       " '197-Negative-Negative.txt',\n",
       " '189-Negative-Negative.txt',\n",
       " '43-Negative-Negative.txt',\n",
       " '64-Negative-Negative.txt',\n",
       " '89-Positive-Positive.txt',\n",
       " '14-Positive-Positive.txt',\n",
       " '77-Positive-Positive.txt',\n",
       " '6-Negative-Negative.txt',\n",
       " '88-Negative-Negative.txt',\n",
       " '26-Positive-Positive.txt',\n",
       " '18-Negative-Negative.txt',\n",
       " '78-Positive-Positive.txt',\n",
       " '175-Positive-Positive.txt',\n",
       " '125-Positive-Positive.txt',\n",
       " '12-Negative-Negative.txt',\n",
       " '85-Negative-Negative.txt',\n",
       " '42-Positive-Positive.txt',\n",
       " '171-Positive-Positive.txt',\n",
       " '110-Positive-Negative.txt',\n",
       " '25-Positive-Positive.txt',\n",
       " '34-Positive-Positive.txt',\n",
       " '157-Negative-Negative.txt',\n",
       " '132-Positive-Positive.txt',\n",
       " '135-Negative-Negative.txt',\n",
       " '107-Negative-Negative.txt',\n",
       " '24-Negative-Negative.txt',\n",
       " '50-Negative-Negative.txt',\n",
       " '186-Positive-Positive.txt',\n",
       " '51-Negative-Negative.txt',\n",
       " '87-Negative-Negative.txt',\n",
       " '127-Positive-Positive.txt',\n",
       " '114-Positive-Positive.txt',\n",
       " '111-Negative-Negative.txt',\n",
       " '151-Negative-Negative.txt',\n",
       " '136-Negative-Negative.txt',\n",
       " '58-Negative-Negative.txt',\n",
       " '27-Negative-Negative.txt',\n",
       " '177-Positive-Positive.txt',\n",
       " '80-Negative-Negative.txt',\n",
       " '105-Negative-Negative.txt',\n",
       " '192-Negative-Negative.txt',\n",
       " '183-Positive-Positive.txt',\n",
       " '5-Positive-Positive.txt',\n",
       " '79-Negative-Negative.txt',\n",
       " '21-Positive-Positive.txt',\n",
       " '142-Positive-Positive.txt',\n",
       " '15-Negative-Negative.txt',\n",
       " '38-Negative-Negative.txt',\n",
       " '143-Positive-Positive.txt',\n",
       " '30-Negative-Negative.txt',\n",
       " '62-Positive-Positive.txt',\n",
       " '47-Negative-Negative.txt',\n",
       " '2-Positive-Positive.txt',\n",
       " '139-Negative-Negative.txt',\n",
       " '39-Positive-Positive.txt',\n",
       " '1-Negative-Negative.txt',\n",
       " '90-Positive-Positive.txt',\n",
       " '178-Positive-Positive.txt',\n",
       " '191-Negative-Negative.txt',\n",
       " '69-Negative-Negative.txt',\n",
       " '0-Negative-Positive.txt',\n",
       " '44-Negative-Negative.txt',\n",
       " '130-Negative-Negative.txt',\n",
       " '198-Negative-Negative.txt',\n",
       " '133-Positive-Positive.txt',\n",
       " '97-Positive-Positive.txt',\n",
       " '116-Positive-Positive.txt',\n",
       " '193-Positive-Positive.txt',\n",
       " '118-Negative-Negative.txt',\n",
       " '163-Positive-Negative.txt',\n",
       " '31-Negative-Negative.txt',\n",
       " '71-Positive-Positive.txt',\n",
       " '169-Positive-Positive.txt',\n",
       " '156-Positive-Positive.txt',\n",
       " '54-Positive-Positive.txt',\n",
       " '122-Negative-Negative.txt',\n",
       " '33-Positive-Positive.txt',\n",
       " '120-Positive-Positive.txt',\n",
       " '126-Negative-Negative.txt',\n",
       " '149-Negative-Positive.txt',\n",
       " '145-Positive-Positive.txt',\n",
       " '199-Positive-Positive.txt',\n",
       " '10-Negative-Negative.txt',\n",
       " '72-Negative-Negative.txt',\n",
       " '112-Negative-Negative.txt',\n",
       " '81-Negative-Negative.txt',\n",
       " '119-Negative-Negative.txt',\n",
       " '4-Positive-Positive.txt',\n",
       " '102-Positive-Positive.txt',\n",
       " '83-Positive-Positive.txt',\n",
       " '55-Positive-Positive.txt',\n",
       " '152-Positive-Positive.txt',\n",
       " '161-Positive-Positive.txt',\n",
       " '99-Positive-Negative.txt',\n",
       " '195-Positive-Positive.txt',\n",
       " '56-Positive-Positive.txt',\n",
       " '168-Positive-Negative.txt',\n",
       " '155-Positive-Positive.txt',\n",
       " '96-Negative-Negative.txt',\n",
       " '59-Negative-Negative.txt',\n",
       " '115-Negative-Negative.txt',\n",
       " '75-Negative-Negative.txt',\n",
       " '7-Negative-Negative.txt',\n",
       " '159-Negative-Negative.txt',\n",
       " '36-Positive-Positive.txt',\n",
       " '57-Positive-Positive.txt',\n",
       " '103-Positive-Positive.txt',\n",
       " '131-Positive-Positive.txt',\n",
       " '187-Positive-Positive.txt',\n",
       " '113-Negative-Negative.txt',\n",
       " '185-Positive-Positive.txt',\n",
       " '165-Positive-Positive.txt',\n",
       " '45-Negative-Negative.txt',\n",
       " '106-Negative-Positive.txt',\n",
       " '160-Negative-Negative.txt',\n",
       " '182-Positive-Positive.txt',\n",
       " '134-Positive-Positive.txt',\n",
       " '196-Negative-Negative.txt',\n",
       " '101-Positive-Positive.txt',\n",
       " '166-Positive-Positive.txt',\n",
       " '124-Positive-Positive.txt',\n",
       " '158-Negative-Negative.txt',\n",
       " '74-Negative-Positive.txt',\n",
       " '92-Positive-Positive.txt',\n",
       " '46-Positive-Positive.txt',\n",
       " '176-Negative-Negative.txt',\n",
       " '70-Positive-Positive.txt',\n",
       " '179-Negative-Negative.txt',\n",
       " '98-Negative-Negative.txt',\n",
       " '188-Negative-Negative.txt',\n",
       " '9-Positive-Positive.txt',\n",
       " '40-Positive-Positive.txt',\n",
       " '148-Positive-Positive.txt',\n",
       " '20-Positive-Positive.txt',\n",
       " '22-Positive-Positive.txt',\n",
       " '37-Positive-Positive.txt',\n",
       " '16-Positive-Negative.txt',\n",
       " '65-Positive-Positive.txt',\n",
       " '82-Positive-Positive.txt']"
      ]
     },
     "execution_count": 19,
     "metadata": {},
     "output_type": "execute_result"
    }
   ],
   "source": [
    "os.listdir('./yelp_word_check_shap')"
   ]
  },
  {
   "cell_type": "code",
   "execution_count": 2,
   "metadata": {},
   "outputs": [],
   "source": [
    "def read_change_of_scores(path):\n",
    "    c1_scores = {}\n",
    "    c2_scores = {}\n",
    "\n",
    "    with open(path, 'r') as f:\n",
    "        lines = f.readlines()\n",
    "        for line in lines[1:]:\n",
    "            l = line.split(\",\")\n",
    "            c1_scores[int(l[0])] = float(l[1])\n",
    "            c2_scores[int(l[0])] = float(l[2])\n",
    "    return (c1_scores, c2_scores)"
   ]
  },
  {
   "cell_type": "code",
   "execution_count": 3,
   "metadata": {},
   "outputs": [],
   "source": [
    "def read_dims_changes(method, n, add_all=False, path='./yelp_dim_check_'):\n",
    "    file_names = os.listdir(path+method)\n",
    "    scores_neg = []\n",
    "    scores_pos = []\n",
    "    t = 0\n",
    "    \n",
    "    for f in file_names:\n",
    "        true_label = f.split(\"-\")[1]\n",
    "        lines = open(path+method+\"/\"+f, 'r').readlines()\n",
    "        if len(lines) >= n+2:\n",
    "            t+=1\n",
    "            init_scores = lines[-1].split(\",\")\n",
    "            scores = lines[n].split(\",\")\n",
    "            if add_all or true_label == \"Negative\":\n",
    "                scores_neg.append(float(init_scores[0]) - float(scores[0]))\n",
    "            if add_all or true_label == \"Positive\":\n",
    "                scores_pos.append(float(init_scores[1]) - float(scores[1]))\n",
    "    print(t)\n",
    "    return (scores_neg, scores_pos)"
   ]
  },
  {
   "cell_type": "code",
   "execution_count": 4,
   "metadata": {},
   "outputs": [],
   "source": [
    "def read_words_changes(method, n, add_all=False, path='./yelp_word_check_'):\n",
    "    file_names = os.listdir(path+method)\n",
    "    scores_neg = []\n",
    "    scores_pos = []\n",
    "    t = 0\n",
    "    \n",
    "    for f in file_names:\n",
    "        true_label = f.split(\"-\")[1]\n",
    "        lines = open(path+method+\"/\"+f, 'r').readlines()\n",
    "        if len(lines) >= n+2:\n",
    "            t+=1\n",
    "            init_scores = lines[1].split(\",\")\n",
    "            scores = lines[n+1].split(\",\")\n",
    "            if add_all or true_label == \"Negative\":\n",
    "                scores_neg.append(float(init_scores[1]) - float(scores[1]))\n",
    "            if add_all or true_label == \"Positive\":\n",
    "                scores_pos.append(float(init_scores[2]) - float(scores[2]))\n",
    "    print(t)\n",
    "    return (scores_neg, scores_pos)"
   ]
  },
  {
   "cell_type": "code",
   "execution_count": 23,
   "metadata": {},
   "outputs": [
    {
     "data": {
      "text/plain": [
       "86"
      ]
     },
     "execution_count": 23,
     "metadata": {},
     "output_type": "execute_result"
    }
   ],
   "source": [
    "np.argmax(ixg_10_neg+ixg_10_pos)"
   ]
  },
  {
   "cell_type": "code",
   "execution_count": 25,
   "metadata": {},
   "outputs": [],
   "source": [
    "def remove_top_n(l,n):\n",
    "    rt = l.copy()\n",
    "    for i in range(n):\n",
    "        idx = np.argmax(rt)\n",
    "        rt.remove(rt[idx])\n",
    "    return rt"
   ]
  },
  {
   "cell_type": "code",
   "execution_count": 21,
   "metadata": {},
   "outputs": [],
   "source": [
    "shap_10_neg.remove(shap_10_neg[0])"
   ]
  },
  {
   "cell_type": "code",
   "execution_count": 32,
   "metadata": {},
   "outputs": [
    {
     "name": "stdout",
     "output_type": "stream",
     "text": [
      "200\n",
      "200\n",
      "200\n"
     ]
    },
    {
     "data": {
      "image/png": "[encoded data removed]",
      "text/plain": [
       "<Figure size 432x288 with 1 Axes>"
      ]
     },
     "metadata": {
      "needs_background": "light"
     },
     "output_type": "display_data"
    }
   ],
   "source": [
    "shap_10_neg, shap_10_pos = read_words_changes('shap', 1)\n",
    "ig_10_neg, ig_10_pos = read_words_changes('ig', 1)\n",
    "ixg_10_neg, ixg_10_pos = read_words_changes('ixg', 1)\n",
    "w_shap = shap_10_neg+shap_10_pos\n",
    "w_ig = ig_10_neg+ig_10_pos\n",
    "w_ixg = ixg_10_neg+ixg_10_pos\n",
    "\n",
    "# change of log-odds masking top 20 words\n",
    "plt.boxplot([w_shap, w_ig, w_ixg])\n",
    "plt.xticks([1,2,3], ('NoiseTunnel\\n #sample=500', 'IntegratedGradient', \"InputXGrad\"))\n",
    "plt.ylabel(\"Change of log-odds\")\n",
    "# plt.xlabel(\"Methods\")\n",
    "plt.show()\n"
   ]
  },
  {
   "cell_type": "code",
   "execution_count": 33,
   "metadata": {},
   "outputs": [
    {
     "name": "stdout",
     "output_type": "stream",
     "text": [
      "199\n",
      "199\n",
      "199\n"
     ]
    },
    {
     "data": {
      "image/png": "[encoded data removed]",
      "text/plain": [
       "<Figure size 432x288 with 1 Axes>"
      ]
     },
     "metadata": {
      "needs_background": "light"
     },
     "output_type": "display_data"
    }
   ],
   "source": [
    "shap_10_neg, shap_10_pos = read_words_changes('shap', 5)\n",
    "ig_10_neg, ig_10_pos = read_words_changes('ig', 5)\n",
    "ixg_10_neg, ixg_10_pos = read_words_changes('ixg', 5)\n",
    "w_shap = shap_10_neg+shap_10_pos\n",
    "w_ig = ig_10_neg+ig_10_pos\n",
    "w_ixg = ixg_10_neg+ixg_10_pos\n",
    "\n",
    "# change of log-odds masking top 20 words\n",
    "plt.boxplot([w_shap, w_ig, w_ixg])\n",
    "plt.xticks([1,2,3], ('NoiseTunnel\\n #sample=500', 'IntegratedGradient', \"InputXGrad\"))\n",
    "plt.ylabel(\"Change of log-odds\")\n",
    "# plt.xlabel(\"Methods\")\n",
    "plt.show()"
   ]
  },
  {
   "cell_type": "code",
   "execution_count": 35,
   "metadata": {},
   "outputs": [
    {
     "name": "stdout",
     "output_type": "stream",
     "text": [
      "197\n",
      "197\n",
      "197\n"
     ]
    },
    {
     "data": {
      "image/png": "[encoded data removed]",
      "text/plain": [
       "<Figure size 432x288 with 1 Axes>"
      ]
     },
     "metadata": {
      "needs_background": "light"
     },
     "output_type": "display_data"
    }
   ],
   "source": [
    "shap_10_neg, shap_10_pos = read_words_changes('shap', 10)\n",
    "ig_10_neg, ig_10_pos = read_words_changes('ig', 10)\n",
    "ixg_10_neg, ixg_10_pos = read_words_changes('ixg', 10)\n",
    "w_shap = shap_10_neg+shap_10_pos\n",
    "w_ig = ig_10_neg+ig_10_pos\n",
    "w_ixg = ixg_10_neg+ixg_10_pos\n",
    "\n",
    "# change of log-odds masking top 20 words\n",
    "plt.boxplot([w_shap, w_ig, w_ixg])\n",
    "plt.xticks([1,2,3], ('NoiseTunnel\\n #sample=500', 'IntegratedGradient', \"InputXGrad\"))\n",
    "plt.ylabel(\"Change of log-odds\")\n",
    "# plt.xlabel(\"Methods\")\n",
    "plt.show()"
   ]
  },
  {
   "cell_type": "code",
   "execution_count": 36,
   "metadata": {},
   "outputs": [
    {
     "name": "stdout",
     "output_type": "stream",
     "text": [
      "173\n",
      "173\n",
      "173\n"
     ]
    },
    {
     "data": {
      "image/png": "[encoded data removed]",
      "text/plain": [
       "<Figure size 432x288 with 1 Axes>"
      ]
     },
     "metadata": {
      "needs_background": "light"
     },
     "output_type": "display_data"
    }
   ],
   "source": [
    "shap_10_neg, shap_10_pos = read_words_changes('shap', 20)\n",
    "ig_10_neg, ig_10_pos = read_words_changes('ig', 20)\n",
    "ixg_10_neg, ixg_10_pos = read_words_changes('ixg', 20)\n",
    "w_shap = shap_10_neg+shap_10_pos\n",
    "w_ig = ig_10_neg+ig_10_pos\n",
    "w_ixg = ixg_10_neg+ixg_10_pos\n",
    "\n",
    "# change of log-odds masking top 20 words\n",
    "plt.boxplot([w_shap, w_ig, w_ixg])\n",
    "plt.xticks([1,2,3], ('NoiseTunnel\\n #sample=500', 'IntegratedGradient', \"InputXGrad\"))\n",
    "plt.ylabel(\"Change of log-odds\")\n",
    "# plt.xlabel(\"Methods\")\n",
    "plt.show()"
   ]
  },
  {
   "cell_type": "code",
   "execution_count": 64,
   "metadata": {},
   "outputs": [
    {
     "data": {
      "image/png": "[encoded data removed]",
      "text/plain": [
       "<Figure size 432x288 with 1 Axes>"
      ]
     },
     "metadata": {
      "needs_background": "light"
     },
     "output_type": "display_data"
    }
   ],
   "source": [
    "\n",
    "# change of log-odds masking top 20 words\n",
    "plt.boxplot([shap_10_pos, ig_10_pos, ixg_10_pos])\n",
    "plt.xticks([1,2,3], ('NoiseTunnel', 'IntegratedGradient', \"InputXGrad\"))\n",
    "plt.ylabel(\"Change of log-odds\")\n",
    "# plt.xlabel(\"Methods\")\n",
    "plt.show()"
   ]
  },
  {
   "cell_type": "code",
   "execution_count": 66,
   "metadata": {},
   "outputs": [
    {
     "data": {
      "image/png": "[encoded data removed]",
      "text/plain": [
       "<Figure size 432x288 with 1 Axes>"
      ]
     },
     "metadata": {
      "needs_background": "light"
     },
     "output_type": "display_data"
    }
   ],
   "source": [
    "\n",
    "# change of log-odds masking top 20 words\n",
    "plt.boxplot([shap_10_neg+shap_10_pos, ig_10_neg+ig_10_pos, ixg_10_neg+ixg_10_pos])\n",
    "plt.xticks([1,2,3], ('NoiseTunnel\\nsample=500', 'IntegratedGradient', \"InputXGrad\"))\n",
    "plt.ylabel(\"Change of log-odds\")\n",
    "# plt.xlabel(\"Methods\")\n",
    "plt.show()"
   ]
  },
  {
   "cell_type": "code",
   "execution_count": 10,
   "metadata": {},
   "outputs": [
    {
     "name": "stdout",
     "output_type": "stream",
     "text": [
      "100\n",
      "100\n",
      "100\n"
     ]
    },
    {
     "data": {
      "image/png": "[encoded data removed]",
      "text/plain": [
       "<Figure size 432x288 with 1 Axes>"
      ]
     },
     "metadata": {
      "needs_background": "light"
     },
     "output_type": "display_data"
    }
   ],
   "source": [
    "\n",
    "# change of log-odds masking top 50 dims\n",
    "ig_20_dim_neg, ig_20_dim_pos = read_dims_changes('ig',20)\n",
    "shap_20_dim_neg, shap_20_dim_pos = read_dims_changes('shap',20)\n",
    "ixg_20_dim_neg, ixg_20_dim_pos = read_dims_changes('ixg',20)\n",
    "plt.boxplot([shap_20_dim_neg+shap_20_dim_pos, ig_20_dim_neg+ig_20_dim_pos, ixg_20_dim_neg+ixg_20_dim_pos])\n",
    "plt.xticks([1,2,3], ('NoiseTunnel\\n #sample=500', 'IntegratedGradient', \"InputXGrad\"))\n",
    "plt.ylabel(\"Change of log-odds\")\n",
    "# plt.xlabel(\"Methods\")\n",
    "plt.show()"
   ]
  },
  {
   "cell_type": "code",
   "execution_count": 8,
   "metadata": {},
   "outputs": [
    {
     "name": "stdout",
     "output_type": "stream",
     "text": [
      "100\n",
      "100\n",
      "100\n"
     ]
    },
    {
     "data": {
      "image/png": "[encoded data removed]",
      "text/plain": [
       "<Figure size 432x288 with 1 Axes>"
      ]
     },
     "metadata": {
      "needs_background": "light"
     },
     "output_type": "display_data"
    }
   ],
   "source": [
    "\n",
    "# change of log-odds masking top 50 dims\n",
    "ig_20_dim_neg, ig_20_dim_pos = read_dims_changes('ig',40)\n",
    "shap_20_dim_neg, shap_20_dim_pos = read_dims_changes('shap',40)\n",
    "ixg_20_dim_neg, ixg_20_dim_pos = read_dims_changes('ixg',40)\n",
    "plt.boxplot([shap_20_dim_neg+shap_20_dim_pos, ig_20_dim_neg+ig_20_dim_pos, ixg_20_dim_neg+ixg_20_dim_pos])\n",
    "plt.xticks([1,2,3], ('NoiseTunnel\\n #sample=500', 'IntegratedGradient', \"InputXGrad\"))\n",
    "plt.ylabel(\"Change of log-odds\")\n",
    "# plt.xlabel(\"Methods\")\n",
    "plt.show()"
   ]
  },
  {
   "cell_type": "code",
   "execution_count": 7,
   "metadata": {},
   "outputs": [
    {
     "name": "stdout",
     "output_type": "stream",
     "text": [
      "100\n",
      "100\n",
      "100\n"
     ]
    },
    {
     "data": {
      "image/png": "[encoded data removed]",
      "text/plain": [
       "<Figure size 432x288 with 1 Axes>"
      ]
     },
     "metadata": {
      "needs_background": "light"
     },
     "output_type": "display_data"
    }
   ],
   "source": [
    "\n",
    "# change of log-odds masking top 50 dims\n",
    "ig_20_dim_neg, ig_20_dim_pos = read_dims_changes('ig',60)\n",
    "shap_20_dim_neg, shap_20_dim_pos = read_dims_changes('shap',60)\n",
    "ixg_20_dim_neg, ixg_20_dim_pos = read_dims_changes('ixg',60)\n",
    "plt.boxplot([shap_20_dim_neg+shap_20_dim_pos, ig_20_dim_neg+ig_20_dim_pos, ixg_20_dim_neg+ixg_20_dim_pos])\n",
    "plt.xticks([1,2,3], ('NoiseTunnel\\n #sample=500', 'IntegratedGradient', \"InputXGrad\"))\n",
    "plt.ylabel(\"Change of log-odds\")\n",
    "# plt.xlabel(\"Methods\")\n",
    "plt.show()"
   ]
  },
  {
   "cell_type": "code",
   "execution_count": 6,
   "metadata": {},
   "outputs": [
    {
     "name": "stdout",
     "output_type": "stream",
     "text": [
      "100\n",
      "100\n",
      "100\n"
     ]
    },
    {
     "data": {
      "image/png": "[encoded data removed]",
      "text/plain": [
       "<Figure size 432x288 with 1 Axes>"
      ]
     },
     "metadata": {
      "needs_background": "light"
     },
     "output_type": "display_data"
    }
   ],
   "source": [
    "\n",
    "# change of log-odds masking top 50 dims\n",
    "ig_20_dim_neg, ig_20_dim_pos = read_dims_changes('ig',100)\n",
    "shap_20_dim_neg, shap_20_dim_pos = read_dims_changes('shap',100)\n",
    "ixg_20_dim_neg, ixg_20_dim_pos = read_dims_changes('ixg',100)\n",
    "plt.boxplot([shap_20_dim_neg+shap_20_dim_pos, ig_20_dim_neg+ig_20_dim_pos, ixg_20_dim_neg+ixg_20_dim_pos])\n",
    "plt.xticks([1,2,3], ('NoiseTunnel\\n #sample=500', 'IntegratedGradient', \"InputXGrad\"))\n",
    "plt.ylabel(\"Change of log-odds\")\n",
    "# plt.xlabel(\"Methods\")\n",
    "plt.show()"
   ]
  },
  {
   "cell_type": "code",
   "execution_count": 11,
   "metadata": {},
   "outputs": [
    {
     "name": "stdout",
     "output_type": "stream",
     "text": [
      "100\n",
      "100\n",
      "100\n"
     ]
    },
    {
     "data": {
      "image/png": "[encoded data removed]",
      "text/plain": [
       "<Figure size 432x288 with 1 Axes>"
      ]
     },
     "metadata": {
      "needs_background": "light"
     },
     "output_type": "display_data"
    }
   ],
   "source": [
    "\n",
    "# change of log-odds masking top 50 dims\n",
    "ig_20_dim_neg, ig_20_dim_pos = read_dims_changes('ig',200)\n",
    "shap_20_dim_neg, shap_20_dim_pos = read_dims_changes('shap',200)\n",
    "ixg_20_dim_neg, ixg_20_dim_pos = read_dims_changes('ixg',200)\n",
    "plt.boxplot([shap_20_dim_neg+shap_20_dim_pos, ig_20_dim_neg+ig_20_dim_pos, ixg_20_dim_neg+ixg_20_dim_pos])\n",
    "plt.xticks([1,2,3], ('NoiseTunnel\\n #sample=500', 'IntegratedGradient', \"InputXGrad\"))\n",
    "plt.ylabel(\"Change of log-odds\")\n",
    "# plt.xlabel(\"Methods\")\n",
    "plt.show()"
   ]
  },
  {
   "cell_type": "code",
   "execution_count": 12,
   "metadata": {},
   "outputs": [
    {
     "name": "stdout",
     "output_type": "stream",
     "text": [
      "100\n",
      "100\n",
      "100\n"
     ]
    },
    {
     "data": {
      "image/png": "[encoded data removed]",
      "text/plain": [
       "<Figure size 432x288 with 1 Axes>"
      ]
     },
     "metadata": {
      "needs_background": "light"
     },
     "output_type": "display_data"
    }
   ],
   "source": [
    "# change of log-odds masking top 50 dims\n",
    "ig_20_dim_neg, ig_20_dim_pos = read_dims_changes('ig',300)\n",
    "shap_20_dim_neg, shap_20_dim_pos = read_dims_changes('shap',300)\n",
    "ixg_20_dim_neg, ixg_20_dim_pos = read_dims_changes('ixg',300)\n",
    "plt.boxplot([shap_20_dim_neg+shap_20_dim_pos, ig_20_dim_neg+ig_20_dim_pos, ixg_20_dim_neg+ixg_20_dim_pos])\n",
    "plt.xticks([1,2,3], ('NoiseTunnel\\n #sample=500', 'IntegratedGradient', \"InputXGrad\"))\n",
    "plt.ylabel(\"Change of log-odds\")\n",
    "# plt.xlabel(\"Methods\")\n",
    "plt.show()"
   ]
  },
  {
   "cell_type": "code",
   "execution_count": 78,
   "metadata": {},
   "outputs": [
    {
     "name": "stdout",
     "output_type": "stream",
     "text": [
      "100\n",
      "100\n"
     ]
    },
    {
     "data": {
      "image/png": "[encoded data removed]",
      "text/plain": [
       "<Figure size 432x288 with 1 Axes>"
      ]
     },
     "metadata": {
      "needs_background": "light"
     },
     "output_type": "display_data"
    }
   ],
   "source": [
    "\n",
    "# change of log-odds masking top 50 dims\n",
    "ig_20_dim_neg, ig_20_dim_pos = read_dims_changes('ig',200)\n",
    "ixg_20_dim_neg, ixg_20_dim_pos = read_dims_changes('ixg',200)\n",
    "plt.boxplot([ig_20_dim_neg+ig_20_dim_pos, ixg_20_dim_neg+ixg_20_dim_pos])\n",
    "plt.xticks([1,2], ('IntegratedGradient', \"InputXGrad\"))\n",
    "plt.ylabel(\"Change of log-odds\")\n",
    "# plt.xlabel(\"Methods\")\n",
    "plt.show()"
   ]
  },
  {
   "cell_type": "code",
   "execution_count": 10,
   "metadata": {},
   "outputs": [],
   "source": [
    "c1, c2 = read_change_of_scores(\"./yelp_dim_one_by_one/1-Negative-Negative.txt\")"
   ]
  },
  {
   "cell_type": "code",
   "execution_count": 7,
   "metadata": {},
   "outputs": [],
   "source": [
    "# Visualize the data\n",
    "def plot_data(c1, c2):\n",
    "  plt.plot(c1, label='neg')\n",
    "  plt.plot(c2, label='pos')\n",
    "  plt.legend(loc='lower right')\n",
    "  plt.show()"
   ]
  },
  {
   "cell_type": "code",
   "execution_count": 16,
   "metadata": {},
   "outputs": [
    {
     "data": {
      "text/plain": [
       "[<matplotlib.lines.Line2D at 0x7fe6f7b19490>]"
      ]
     },
     "execution_count": 16,
     "metadata": {},
     "output_type": "execute_result"
    },
    {
     "data": {
      "image/png": "[encoded data removed]",
      "text/plain": [
       "<Figure size 432x288 with 1 Axes>"
      ]
     },
     "metadata": {
      "needs_background": "light"
     },
     "output_type": "display_data"
    }
   ],
   "source": [
    "plt.plot(np.array(list(c1.values()))-c1[-1])"
   ]
  },
  {
   "cell_type": "code",
   "execution_count": 13,
   "metadata": {},
   "outputs": [
    {
     "data": {
      "text/plain": [
       "array([0.7, 1.7, 2.7])"
      ]
     },
     "execution_count": 13,
     "metadata": {},
     "output_type": "execute_result"
    }
   ],
   "source": [
    "np.array([1,2,3]) - 0.3"
   ]
  },
  {
   "cell_type": "code",
   "execution_count": null,
   "metadata": {},
   "outputs": [],
   "source": [
    "data = [data, d2, d2[::2,0]]\n",
    "fig7, ax7 = plt.subplots()\n",
    "ax7.set_title('Multiple Samples with Different sizes')\n",
    "ax7.boxplot(data)\n",
    "\n",
    "plt.show()"
   ]
  }
 ],
 "metadata": {
  "kernelspec": {
   "display_name": "Python 3",
   "language": "python",
   "name": "python3"
  },
  "language_info": {
   "codemirror_mode": {
    "name": "ipython",
    "version": 3
   },
   "file_extension": ".py",
   "mimetype": "text/x-python",
   "name": "python",
   "nbconvert_exporter": "python",
   "pygments_lexer": "ipython3",
   "version": "3.7.5"
  }
 },
 "nbformat": 4,
 "nbformat_minor": 4
}
